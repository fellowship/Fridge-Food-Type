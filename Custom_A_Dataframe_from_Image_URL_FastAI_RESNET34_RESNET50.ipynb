{
  "nbformat": 4,
  "nbformat_minor": 0,
  "metadata": {
    "jupytext": {
      "split_at_heading": true
    },
    "kernelspec": {
      "display_name": "Python 3",
      "language": "python",
      "name": "python3"
    },
    "language_info": {
      "codemirror_mode": {
        "name": "ipython",
        "version": 3
      },
      "file_extension": ".py",
      "mimetype": "text/x-python",
      "name": "python",
      "nbconvert_exporter": "python",
      "pygments_lexer": "ipython3",
      "version": "3.7.6"
    },
    "colab": {
      "name": "Custom A - Dataframe from Image URL- FastAI - RESNET34 / RESNET50.ipynb",
      "provenance": [],
      "collapsed_sections": [
        "XXT_gno_LYMk",
        "k55AN-4BLYM0"
      ],
      "toc_visible": true,
      "include_colab_link": true
    },
    "accelerator": "GPU",
    "widgets": {
      "application/vnd.jupyter.widget-state+json": {
        "e34ee8201bd44c009166e0712151327b": {
          "model_module": "@jupyter-widgets/controls",
          "model_name": "HBoxModel",
          "state": {
            "_view_name": "HBoxView",
            "_dom_classes": [],
            "_model_name": "HBoxModel",
            "_view_module": "@jupyter-widgets/controls",
            "_model_module_version": "1.5.0",
            "_view_count": null,
            "_view_module_version": "1.5.0",
            "box_style": "",
            "layout": "IPY_MODEL_f511c600cbf34f9e9902dc401dd63224",
            "_model_module": "@jupyter-widgets/controls",
            "children": [
              "IPY_MODEL_da6bf82d6a034af98783538a5a0a44cd",
              "IPY_MODEL_74b7f53363b3413695b1427a683bc408"
            ]
          }
        },
        "f511c600cbf34f9e9902dc401dd63224": {
          "model_module": "@jupyter-widgets/base",
          "model_name": "LayoutModel",
          "state": {
            "_view_name": "LayoutView",
            "grid_template_rows": null,
            "right": null,
            "justify_content": null,
            "_view_module": "@jupyter-widgets/base",
            "overflow": null,
            "_model_module_version": "1.2.0",
            "_view_count": null,
            "flex_flow": null,
            "width": null,
            "min_width": null,
            "border": null,
            "align_items": null,
            "bottom": null,
            "_model_module": "@jupyter-widgets/base",
            "top": null,
            "grid_column": null,
            "overflow_y": null,
            "overflow_x": null,
            "grid_auto_flow": null,
            "grid_area": null,
            "grid_template_columns": null,
            "flex": null,
            "_model_name": "LayoutModel",
            "justify_items": null,
            "grid_row": null,
            "max_height": null,
            "align_content": null,
            "visibility": null,
            "align_self": null,
            "height": null,
            "min_height": null,
            "padding": null,
            "grid_auto_rows": null,
            "grid_gap": null,
            "max_width": null,
            "order": null,
            "_view_module_version": "1.2.0",
            "grid_template_areas": null,
            "object_position": null,
            "object_fit": null,
            "grid_auto_columns": null,
            "margin": null,
            "display": null,
            "left": null
          }
        },
        "da6bf82d6a034af98783538a5a0a44cd": {
          "model_module": "@jupyter-widgets/controls",
          "model_name": "FloatProgressModel",
          "state": {
            "_view_name": "ProgressView",
            "style": "IPY_MODEL_f7ecacdda0fe4046b7eebbdcbd7f88c8",
            "_dom_classes": [],
            "description": "100%",
            "_model_name": "FloatProgressModel",
            "bar_style": "success",
            "max": 87306240,
            "_view_module": "@jupyter-widgets/controls",
            "_model_module_version": "1.5.0",
            "value": 87306240,
            "_view_count": null,
            "_view_module_version": "1.5.0",
            "orientation": "horizontal",
            "min": 0,
            "description_tooltip": null,
            "_model_module": "@jupyter-widgets/controls",
            "layout": "IPY_MODEL_c6f4c030f62a4ff5b4a72a9b9b08ba5c"
          }
        },
        "74b7f53363b3413695b1427a683bc408": {
          "model_module": "@jupyter-widgets/controls",
          "model_name": "HTMLModel",
          "state": {
            "_view_name": "HTMLView",
            "style": "IPY_MODEL_2348f61b09644409ab08258c9ae29252",
            "_dom_classes": [],
            "description": "",
            "_model_name": "HTMLModel",
            "placeholder": "​",
            "_view_module": "@jupyter-widgets/controls",
            "_model_module_version": "1.5.0",
            "value": " 83.3M/83.3M [00:34&lt;00:00, 2.52MB/s]",
            "_view_count": null,
            "_view_module_version": "1.5.0",
            "description_tooltip": null,
            "_model_module": "@jupyter-widgets/controls",
            "layout": "IPY_MODEL_443b3f4d34e44ae8940dbe4ef878f9f0"
          }
        },
        "f7ecacdda0fe4046b7eebbdcbd7f88c8": {
          "model_module": "@jupyter-widgets/controls",
          "model_name": "ProgressStyleModel",
          "state": {
            "_view_name": "StyleView",
            "_model_name": "ProgressStyleModel",
            "description_width": "initial",
            "_view_module": "@jupyter-widgets/base",
            "_model_module_version": "1.5.0",
            "_view_count": null,
            "_view_module_version": "1.2.0",
            "bar_color": null,
            "_model_module": "@jupyter-widgets/controls"
          }
        },
        "c6f4c030f62a4ff5b4a72a9b9b08ba5c": {
          "model_module": "@jupyter-widgets/base",
          "model_name": "LayoutModel",
          "state": {
            "_view_name": "LayoutView",
            "grid_template_rows": null,
            "right": null,
            "justify_content": null,
            "_view_module": "@jupyter-widgets/base",
            "overflow": null,
            "_model_module_version": "1.2.0",
            "_view_count": null,
            "flex_flow": null,
            "width": null,
            "min_width": null,
            "border": null,
            "align_items": null,
            "bottom": null,
            "_model_module": "@jupyter-widgets/base",
            "top": null,
            "grid_column": null,
            "overflow_y": null,
            "overflow_x": null,
            "grid_auto_flow": null,
            "grid_area": null,
            "grid_template_columns": null,
            "flex": null,
            "_model_name": "LayoutModel",
            "justify_items": null,
            "grid_row": null,
            "max_height": null,
            "align_content": null,
            "visibility": null,
            "align_self": null,
            "height": null,
            "min_height": null,
            "padding": null,
            "grid_auto_rows": null,
            "grid_gap": null,
            "max_width": null,
            "order": null,
            "_view_module_version": "1.2.0",
            "grid_template_areas": null,
            "object_position": null,
            "object_fit": null,
            "grid_auto_columns": null,
            "margin": null,
            "display": null,
            "left": null
          }
        },
        "2348f61b09644409ab08258c9ae29252": {
          "model_module": "@jupyter-widgets/controls",
          "model_name": "DescriptionStyleModel",
          "state": {
            "_view_name": "StyleView",
            "_model_name": "DescriptionStyleModel",
            "description_width": "",
            "_view_module": "@jupyter-widgets/base",
            "_model_module_version": "1.5.0",
            "_view_count": null,
            "_view_module_version": "1.2.0",
            "_model_module": "@jupyter-widgets/controls"
          }
        },
        "443b3f4d34e44ae8940dbe4ef878f9f0": {
          "model_module": "@jupyter-widgets/base",
          "model_name": "LayoutModel",
          "state": {
            "_view_name": "LayoutView",
            "grid_template_rows": null,
            "right": null,
            "justify_content": null,
            "_view_module": "@jupyter-widgets/base",
            "overflow": null,
            "_model_module_version": "1.2.0",
            "_view_count": null,
            "flex_flow": null,
            "width": null,
            "min_width": null,
            "border": null,
            "align_items": null,
            "bottom": null,
            "_model_module": "@jupyter-widgets/base",
            "top": null,
            "grid_column": null,
            "overflow_y": null,
            "overflow_x": null,
            "grid_auto_flow": null,
            "grid_area": null,
            "grid_template_columns": null,
            "flex": null,
            "_model_name": "LayoutModel",
            "justify_items": null,
            "grid_row": null,
            "max_height": null,
            "align_content": null,
            "visibility": null,
            "align_self": null,
            "height": null,
            "min_height": null,
            "padding": null,
            "grid_auto_rows": null,
            "grid_gap": null,
            "max_width": null,
            "order": null,
            "_view_module_version": "1.2.0",
            "grid_template_areas": null,
            "object_position": null,
            "object_fit": null,
            "grid_auto_columns": null,
            "margin": null,
            "display": null,
            "left": null
          }
        },
        "f61331b25db54686a38c49354760ed68": {
          "model_module": "@jupyter-widgets/controls",
          "model_name": "HBoxModel",
          "state": {
            "_view_name": "HBoxView",
            "_dom_classes": [],
            "_model_name": "HBoxModel",
            "_view_module": "@jupyter-widgets/controls",
            "_model_module_version": "1.5.0",
            "_view_count": null,
            "_view_module_version": "1.5.0",
            "box_style": "",
            "layout": "IPY_MODEL_2d5c37816f444ef59e4b03b05bce382f",
            "_model_module": "@jupyter-widgets/controls",
            "children": [
              "IPY_MODEL_a2cc6b45e4e04aec8248fa3758c5bc44",
              "IPY_MODEL_037f8f0850af4c1d924b126d51d79d69"
            ]
          }
        },
        "2d5c37816f444ef59e4b03b05bce382f": {
          "model_module": "@jupyter-widgets/base",
          "model_name": "LayoutModel",
          "state": {
            "_view_name": "LayoutView",
            "grid_template_rows": null,
            "right": null,
            "justify_content": null,
            "_view_module": "@jupyter-widgets/base",
            "overflow": null,
            "_model_module_version": "1.2.0",
            "_view_count": null,
            "flex_flow": null,
            "width": null,
            "min_width": null,
            "border": null,
            "align_items": null,
            "bottom": null,
            "_model_module": "@jupyter-widgets/base",
            "top": null,
            "grid_column": null,
            "overflow_y": null,
            "overflow_x": null,
            "grid_auto_flow": null,
            "grid_area": null,
            "grid_template_columns": null,
            "flex": null,
            "_model_name": "LayoutModel",
            "justify_items": null,
            "grid_row": null,
            "max_height": null,
            "align_content": null,
            "visibility": null,
            "align_self": null,
            "height": null,
            "min_height": null,
            "padding": null,
            "grid_auto_rows": null,
            "grid_gap": null,
            "max_width": null,
            "order": null,
            "_view_module_version": "1.2.0",
            "grid_template_areas": null,
            "object_position": null,
            "object_fit": null,
            "grid_auto_columns": null,
            "margin": null,
            "display": null,
            "left": null
          }
        },
        "a2cc6b45e4e04aec8248fa3758c5bc44": {
          "model_module": "@jupyter-widgets/controls",
          "model_name": "FloatProgressModel",
          "state": {
            "_view_name": "ProgressView",
            "style": "IPY_MODEL_a0fbb8d032ea4270a8979d6173e41c78",
            "_dom_classes": [],
            "description": "100%",
            "_model_name": "FloatProgressModel",
            "bar_style": "success",
            "max": 102502400,
            "_view_module": "@jupyter-widgets/controls",
            "_model_module_version": "1.5.0",
            "value": 102502400,
            "_view_count": null,
            "_view_module_version": "1.5.0",
            "orientation": "horizontal",
            "min": 0,
            "description_tooltip": null,
            "_model_module": "@jupyter-widgets/controls",
            "layout": "IPY_MODEL_09f9fa774cbc4b9ba9607651c70457d5"
          }
        },
        "037f8f0850af4c1d924b126d51d79d69": {
          "model_module": "@jupyter-widgets/controls",
          "model_name": "HTMLModel",
          "state": {
            "_view_name": "HTMLView",
            "style": "IPY_MODEL_af4929cfff9040f780415777b6db2f49",
            "_dom_classes": [],
            "description": "",
            "_model_name": "HTMLModel",
            "placeholder": "​",
            "_view_module": "@jupyter-widgets/controls",
            "_model_module_version": "1.5.0",
            "value": " 97.8M/97.8M [00:03&lt;00:00, 26.8MB/s]",
            "_view_count": null,
            "_view_module_version": "1.5.0",
            "description_tooltip": null,
            "_model_module": "@jupyter-widgets/controls",
            "layout": "IPY_MODEL_ffa5cc6c9976441fb43af26ab50704b2"
          }
        },
        "a0fbb8d032ea4270a8979d6173e41c78": {
          "model_module": "@jupyter-widgets/controls",
          "model_name": "ProgressStyleModel",
          "state": {
            "_view_name": "StyleView",
            "_model_name": "ProgressStyleModel",
            "description_width": "initial",
            "_view_module": "@jupyter-widgets/base",
            "_model_module_version": "1.5.0",
            "_view_count": null,
            "_view_module_version": "1.2.0",
            "bar_color": null,
            "_model_module": "@jupyter-widgets/controls"
          }
        },
        "09f9fa774cbc4b9ba9607651c70457d5": {
          "model_module": "@jupyter-widgets/base",
          "model_name": "LayoutModel",
          "state": {
            "_view_name": "LayoutView",
            "grid_template_rows": null,
            "right": null,
            "justify_content": null,
            "_view_module": "@jupyter-widgets/base",
            "overflow": null,
            "_model_module_version": "1.2.0",
            "_view_count": null,
            "flex_flow": null,
            "width": null,
            "min_width": null,
            "border": null,
            "align_items": null,
            "bottom": null,
            "_model_module": "@jupyter-widgets/base",
            "top": null,
            "grid_column": null,
            "overflow_y": null,
            "overflow_x": null,
            "grid_auto_flow": null,
            "grid_area": null,
            "grid_template_columns": null,
            "flex": null,
            "_model_name": "LayoutModel",
            "justify_items": null,
            "grid_row": null,
            "max_height": null,
            "align_content": null,
            "visibility": null,
            "align_self": null,
            "height": null,
            "min_height": null,
            "padding": null,
            "grid_auto_rows": null,
            "grid_gap": null,
            "max_width": null,
            "order": null,
            "_view_module_version": "1.2.0",
            "grid_template_areas": null,
            "object_position": null,
            "object_fit": null,
            "grid_auto_columns": null,
            "margin": null,
            "display": null,
            "left": null
          }
        },
        "af4929cfff9040f780415777b6db2f49": {
          "model_module": "@jupyter-widgets/controls",
          "model_name": "DescriptionStyleModel",
          "state": {
            "_view_name": "StyleView",
            "_model_name": "DescriptionStyleModel",
            "description_width": "",
            "_view_module": "@jupyter-widgets/base",
            "_model_module_version": "1.5.0",
            "_view_count": null,
            "_view_module_version": "1.2.0",
            "_model_module": "@jupyter-widgets/controls"
          }
        },
        "ffa5cc6c9976441fb43af26ab50704b2": {
          "model_module": "@jupyter-widgets/base",
          "model_name": "LayoutModel",
          "state": {
            "_view_name": "LayoutView",
            "grid_template_rows": null,
            "right": null,
            "justify_content": null,
            "_view_module": "@jupyter-widgets/base",
            "overflow": null,
            "_model_module_version": "1.2.0",
            "_view_count": null,
            "flex_flow": null,
            "width": null,
            "min_width": null,
            "border": null,
            "align_items": null,
            "bottom": null,
            "_model_module": "@jupyter-widgets/base",
            "top": null,
            "grid_column": null,
            "overflow_y": null,
            "overflow_x": null,
            "grid_auto_flow": null,
            "grid_area": null,
            "grid_template_columns": null,
            "flex": null,
            "_model_name": "LayoutModel",
            "justify_items": null,
            "grid_row": null,
            "max_height": null,
            "align_content": null,
            "visibility": null,
            "align_self": null,
            "height": null,
            "min_height": null,
            "padding": null,
            "grid_auto_rows": null,
            "grid_gap": null,
            "max_width": null,
            "order": null,
            "_view_module_version": "1.2.0",
            "grid_template_areas": null,
            "object_position": null,
            "object_fit": null,
            "grid_auto_columns": null,
            "margin": null,
            "display": null,
            "left": null
          }
        }
      }
    }
  },
  "cells": [
    {
      "cell_type": "markdown",
      "metadata": {
        "id": "view-in-github",
        "colab_type": "text"
      },
      "source": [
        "<a href=\"https://colab.research.google.com/github/fellowship/Fridge-Food-Type/blob/master/Custom_A_Dataframe_from_Image_URL_FastAI_RESNET34_RESNET50.ipynb\" target=\"_parent\"><img src=\"https://colab.research.google.com/assets/colab-badge.svg\" alt=\"Open In Colab\"/></a>"
      ]
    },
    {
      "cell_type": "markdown",
      "metadata": {
        "id": "TT4-feTAR2pD"
      },
      "source": [
        "# This notebook implements custom Dataset A with RESNET34/50:\n",
        "Dataset A: https://drive.google.com/drive/folders/1FqMl-O78MZgFT_tGruad4t1yti-scO4B?usp=sharing\n",
        "\n",
        "##Quickstats for Dataset A:\n",
        "1. 8 in-oven food categories\n",
        "2. Accuracy: RESNET 34: 45%; RESNET 50: 58%"
      ]
    },
    {
      "cell_type": "markdown",
      "metadata": {
        "id": "Rn61A4rcTD6L"
      },
      "source": [
        "# 1. Import dependencies"
      ]
    },
    {
      "cell_type": "code",
      "metadata": {
        "id": "hlYL9AEJLYMX",
        "colab": {
          "base_uri": "https://localhost:8080/"
        },
        "outputId": "1caf0d77-4de7-4e70-d5a7-1cc123ca972d"
      },
      "source": [
        "#hide\n",
        "!pip install -Uqq fastbook\n",
        "import fastbook\n",
        "fastbook.setup_book()"
      ],
      "execution_count": null,
      "outputs": [
        {
          "output_type": "stream",
          "text": [
            "\u001b[K     |████████████████████████████████| 727kB 13.0MB/s \n",
            "\u001b[K     |████████████████████████████████| 194kB 19.1MB/s \n",
            "\u001b[K     |████████████████████████████████| 51kB 6.7MB/s \n",
            "\u001b[K     |████████████████████████████████| 1.2MB 43.5MB/s \n",
            "\u001b[K     |████████████████████████████████| 61kB 8.1MB/s \n",
            "\u001b[K     |████████████████████████████████| 776.8MB 23kB/s \n",
            "\u001b[K     |████████████████████████████████| 12.8MB 40.7MB/s \n",
            "\u001b[K     |████████████████████████████████| 51kB 7.1MB/s \n",
            "\u001b[31mERROR: torchtext 0.9.0 has requirement torch==1.8.0, but you'll have torch 1.7.1 which is incompatible.\u001b[0m\n",
            "\u001b[?25hMounted at /content/gdrive\n"
          ],
          "name": "stdout"
        }
      ]
    },
    {
      "cell_type": "code",
      "metadata": {
        "id": "rxUrU0jaLYMc"
      },
      "source": [
        "#hide\n",
        "from fastbook import *"
      ],
      "execution_count": null,
      "outputs": []
    },
    {
      "cell_type": "code",
      "metadata": {
        "colab": {
          "base_uri": "https://localhost:8080/"
        },
        "id": "QmWl93DskZ-M",
        "outputId": "d2f123ac-ffc4-4866-cf47-9039353273eb"
      },
      "source": [
        "# Print Working Directory \n",
        "!pwd"
      ],
      "execution_count": null,
      "outputs": [
        {
          "output_type": "stream",
          "text": [
            "/content\n"
          ],
          "name": "stdout"
        }
      ]
    },
    {
      "cell_type": "code",
      "metadata": {
        "id": "LRQYYlcWXlw1"
      },
      "source": [
        "# current working directory path\n",
        "wd = os.getcwd() "
      ],
      "execution_count": null,
      "outputs": []
    },
    {
      "cell_type": "markdown",
      "metadata": {
        "id": "313l_r4hTwZ_"
      },
      "source": [
        "### Download Data and Create Dataframe"
      ]
    },
    {
      "cell_type": "code",
      "metadata": {
        "colab": {
          "base_uri": "https://localhost:8080/"
        },
        "id": "6gYEx1M2B3ni",
        "outputId": "c68f064c-9893-44c5-8316-61d4a5aa1534"
      },
      "source": [
        "# extract image_urls and label_names\n",
        "import os\n",
        "image_urls = []\n",
        "labels_dist = []\n",
        "\n",
        "path = '/content/gdrive/MyDrive/Dataset/Dataset1/Images'\n",
        "\n",
        "for subdir, dirs, files in os.walk(path):\n",
        "  for f in files:\n",
        "    if(f!='.DS_Store'):\n",
        "      image = os.path.join(path, subdir, f)\n",
        "      image_urls.append(image)\n",
        "      f = f.split('.')[-2]\n",
        "      stemmed = ''.join([i for i in f if not i.isdigit()])\n",
        "      stemmed = stemmed.replace('()','')\n",
        "      stemmed = stemmed.strip()\n",
        "      labels_dist.append(stemmed)\n",
        "\n",
        "print(f'# of images: {len(image_urls)}')\n",
        "print(f'# of labels: {len(labels_dist)}')"
      ],
      "execution_count": null,
      "outputs": [
        {
          "output_type": "stream",
          "text": [
            "# of images: 240\n",
            "# of labels: 240\n"
          ],
          "name": "stdout"
        }
      ]
    },
    {
      "cell_type": "code",
      "metadata": {
        "id": "U7ucKb8NRYeq"
      },
      "source": [
        "food_labels = sorted(list(set(labels_dist)))"
      ],
      "execution_count": null,
      "outputs": []
    },
    {
      "cell_type": "code",
      "metadata": {
        "id": "4nAPmwIpRYhK"
      },
      "source": [
        "# store urls and raw labels in dataframe\n",
        "import pandas as pd\n",
        "df = pd.DataFrame(list(zip(image_urls,labels_dist)), columns = ['image_urls', 'labels_dist'])"
      ],
      "execution_count": null,
      "outputs": []
    },
    {
      "cell_type": "code",
      "metadata": {
        "colab": {
          "base_uri": "https://localhost:8080/",
          "height": 206
        },
        "id": "jDV6qulR07BK",
        "outputId": "e52a831c-e061-4e09-fdf8-6f12318d5fb7"
      },
      "source": [
        "df.head()"
      ],
      "execution_count": null,
      "outputs": [
        {
          "output_type": "execute_result",
          "data": {
            "text/html": [
              "<div>\n",
              "<style scoped>\n",
              "    .dataframe tbody tr th:only-of-type {\n",
              "        vertical-align: middle;\n",
              "    }\n",
              "\n",
              "    .dataframe tbody tr th {\n",
              "        vertical-align: top;\n",
              "    }\n",
              "\n",
              "    .dataframe thead th {\n",
              "        text-align: right;\n",
              "    }\n",
              "</style>\n",
              "<table border=\"1\" class=\"dataframe\">\n",
              "  <thead>\n",
              "    <tr style=\"text-align: right;\">\n",
              "      <th></th>\n",
              "      <th>image_urls</th>\n",
              "      <th>labels_dist</th>\n",
              "    </tr>\n",
              "  </thead>\n",
              "  <tbody>\n",
              "    <tr>\n",
              "      <th>0</th>\n",
              "      <td>/content/gdrive/MyDrive/Dataset/Dataset1/Images/Train/Potatoes/potatoes0.jpg</td>\n",
              "      <td>potatoes</td>\n",
              "    </tr>\n",
              "    <tr>\n",
              "      <th>1</th>\n",
              "      <td>/content/gdrive/MyDrive/Dataset/Dataset1/Images/Train/Potatoes/potatoes11.jpg</td>\n",
              "      <td>potatoes</td>\n",
              "    </tr>\n",
              "    <tr>\n",
              "      <th>2</th>\n",
              "      <td>/content/gdrive/MyDrive/Dataset/Dataset1/Images/Train/Potatoes/potatoes8.jpg</td>\n",
              "      <td>potatoes</td>\n",
              "    </tr>\n",
              "    <tr>\n",
              "      <th>3</th>\n",
              "      <td>/content/gdrive/MyDrive/Dataset/Dataset1/Images/Train/Potatoes/potatoes2.jpg</td>\n",
              "      <td>potatoes</td>\n",
              "    </tr>\n",
              "    <tr>\n",
              "      <th>4</th>\n",
              "      <td>/content/gdrive/MyDrive/Dataset/Dataset1/Images/Train/Potatoes/potatoes15.jpg</td>\n",
              "      <td>potatoes</td>\n",
              "    </tr>\n",
              "  </tbody>\n",
              "</table>\n",
              "</div>"
            ],
            "text/plain": [
              "                                                                      image_urls  \\\n",
              "0   /content/gdrive/MyDrive/Dataset/Dataset1/Images/Train/Potatoes/potatoes0.jpg   \n",
              "1  /content/gdrive/MyDrive/Dataset/Dataset1/Images/Train/Potatoes/potatoes11.jpg   \n",
              "2   /content/gdrive/MyDrive/Dataset/Dataset1/Images/Train/Potatoes/potatoes8.jpg   \n",
              "3   /content/gdrive/MyDrive/Dataset/Dataset1/Images/Train/Potatoes/potatoes2.jpg   \n",
              "4  /content/gdrive/MyDrive/Dataset/Dataset1/Images/Train/Potatoes/potatoes15.jpg   \n",
              "\n",
              "  labels_dist  \n",
              "0    potatoes  \n",
              "1    potatoes  \n",
              "2    potatoes  \n",
              "3    potatoes  \n",
              "4    potatoes  "
            ]
          },
          "metadata": {
            "tags": []
          },
          "execution_count": 27
        }
      ]
    },
    {
      "cell_type": "code",
      "metadata": {
        "colab": {
          "base_uri": "https://localhost:8080/",
          "height": 809
        },
        "id": "b3V5GKp607Dz",
        "outputId": "4f12a671-b6b8-479c-8e1f-dd44485cdb5a"
      },
      "source": [
        "df['labels_dist'].value_counts().plot(kind='bar',figsize=(15,13))"
      ],
      "execution_count": null,
      "outputs": [
        {
          "output_type": "execute_result",
          "data": {
            "text/plain": [
              "<matplotlib.axes._subplots.AxesSubplot at 0x7f277a0a5290>"
            ]
          },
          "metadata": {
            "tags": []
          },
          "execution_count": 28
        },
        {
          "output_type": "display_data",
          "data": {
            "image/png": "[encoded data removed]",
            "text/plain": [
              "<Figure size 1080x936 with 1 Axes>"
            ]
          },
          "metadata": {
            "tags": [],
            "needs_background": "light"
          }
        }
      ]
    },
    {
      "cell_type": "code",
      "metadata": {
        "colab": {
          "base_uri": "https://localhost:8080/",
          "height": 206
        },
        "id": "zs8VDOPR6jJt",
        "outputId": "3f13ebf0-eac5-4a42-b7b9-2e3369d66c97"
      },
      "source": [
        "df.head()"
      ],
      "execution_count": null,
      "outputs": [
        {
          "output_type": "execute_result",
          "data": {
            "text/html": [
              "<div>\n",
              "<style scoped>\n",
              "    .dataframe tbody tr th:only-of-type {\n",
              "        vertical-align: middle;\n",
              "    }\n",
              "\n",
              "    .dataframe tbody tr th {\n",
              "        vertical-align: top;\n",
              "    }\n",
              "\n",
              "    .dataframe thead th {\n",
              "        text-align: right;\n",
              "    }\n",
              "</style>\n",
              "<table border=\"1\" class=\"dataframe\">\n",
              "  <thead>\n",
              "    <tr style=\"text-align: right;\">\n",
              "      <th></th>\n",
              "      <th>image_urls</th>\n",
              "      <th>labels_dist</th>\n",
              "    </tr>\n",
              "  </thead>\n",
              "  <tbody>\n",
              "    <tr>\n",
              "      <th>0</th>\n",
              "      <td>/content/gdrive/MyDrive/Dataset/Dataset1/Images/Train/Potatoes/potatoes0.jpg</td>\n",
              "      <td>potatoes</td>\n",
              "    </tr>\n",
              "    <tr>\n",
              "      <th>1</th>\n",
              "      <td>/content/gdrive/MyDrive/Dataset/Dataset1/Images/Train/Potatoes/potatoes11.jpg</td>\n",
              "      <td>potatoes</td>\n",
              "    </tr>\n",
              "    <tr>\n",
              "      <th>2</th>\n",
              "      <td>/content/gdrive/MyDrive/Dataset/Dataset1/Images/Train/Potatoes/potatoes8.jpg</td>\n",
              "      <td>potatoes</td>\n",
              "    </tr>\n",
              "    <tr>\n",
              "      <th>3</th>\n",
              "      <td>/content/gdrive/MyDrive/Dataset/Dataset1/Images/Train/Potatoes/potatoes2.jpg</td>\n",
              "      <td>potatoes</td>\n",
              "    </tr>\n",
              "    <tr>\n",
              "      <th>4</th>\n",
              "      <td>/content/gdrive/MyDrive/Dataset/Dataset1/Images/Train/Potatoes/potatoes15.jpg</td>\n",
              "      <td>potatoes</td>\n",
              "    </tr>\n",
              "  </tbody>\n",
              "</table>\n",
              "</div>"
            ],
            "text/plain": [
              "                                                                      image_urls  \\\n",
              "0   /content/gdrive/MyDrive/Dataset/Dataset1/Images/Train/Potatoes/potatoes0.jpg   \n",
              "1  /content/gdrive/MyDrive/Dataset/Dataset1/Images/Train/Potatoes/potatoes11.jpg   \n",
              "2   /content/gdrive/MyDrive/Dataset/Dataset1/Images/Train/Potatoes/potatoes8.jpg   \n",
              "3   /content/gdrive/MyDrive/Dataset/Dataset1/Images/Train/Potatoes/potatoes2.jpg   \n",
              "4  /content/gdrive/MyDrive/Dataset/Dataset1/Images/Train/Potatoes/potatoes15.jpg   \n",
              "\n",
              "  labels_dist  \n",
              "0    potatoes  \n",
              "1    potatoes  \n",
              "2    potatoes  \n",
              "3    potatoes  \n",
              "4    potatoes  "
            ]
          },
          "metadata": {
            "tags": []
          },
          "execution_count": 29
        }
      ]
    },
    {
      "cell_type": "code",
      "metadata": {
        "colab": {
          "base_uri": "https://localhost:8080/",
          "height": 423
        },
        "id": "zhaqFRMI6jPL",
        "outputId": "3eb8ef01-60b6-4ab9-bf24-319a65649966"
      },
      "source": [
        "df"
      ],
      "execution_count": null,
      "outputs": [
        {
          "output_type": "execute_result",
          "data": {
            "text/html": [
              "<div>\n",
              "<style scoped>\n",
              "    .dataframe tbody tr th:only-of-type {\n",
              "        vertical-align: middle;\n",
              "    }\n",
              "\n",
              "    .dataframe tbody tr th {\n",
              "        vertical-align: top;\n",
              "    }\n",
              "\n",
              "    .dataframe thead th {\n",
              "        text-align: right;\n",
              "    }\n",
              "</style>\n",
              "<table border=\"1\" class=\"dataframe\">\n",
              "  <thead>\n",
              "    <tr style=\"text-align: right;\">\n",
              "      <th></th>\n",
              "      <th>image_urls</th>\n",
              "      <th>labels_dist</th>\n",
              "    </tr>\n",
              "  </thead>\n",
              "  <tbody>\n",
              "    <tr>\n",
              "      <th>0</th>\n",
              "      <td>/content/gdrive/MyDrive/Dataset/Dataset1/Images/Train/Potatoes/potatoes0.jpg</td>\n",
              "      <td>potatoes</td>\n",
              "    </tr>\n",
              "    <tr>\n",
              "      <th>1</th>\n",
              "      <td>/content/gdrive/MyDrive/Dataset/Dataset1/Images/Train/Potatoes/potatoes11.jpg</td>\n",
              "      <td>potatoes</td>\n",
              "    </tr>\n",
              "    <tr>\n",
              "      <th>2</th>\n",
              "      <td>/content/gdrive/MyDrive/Dataset/Dataset1/Images/Train/Potatoes/potatoes8.jpg</td>\n",
              "      <td>potatoes</td>\n",
              "    </tr>\n",
              "    <tr>\n",
              "      <th>3</th>\n",
              "      <td>/content/gdrive/MyDrive/Dataset/Dataset1/Images/Train/Potatoes/potatoes2.jpg</td>\n",
              "      <td>potatoes</td>\n",
              "    </tr>\n",
              "    <tr>\n",
              "      <th>4</th>\n",
              "      <td>/content/gdrive/MyDrive/Dataset/Dataset1/Images/Train/Potatoes/potatoes15.jpg</td>\n",
              "      <td>potatoes</td>\n",
              "    </tr>\n",
              "    <tr>\n",
              "      <th>...</th>\n",
              "      <td>...</td>\n",
              "      <td>...</td>\n",
              "    </tr>\n",
              "    <tr>\n",
              "      <th>235</th>\n",
              "      <td>/content/gdrive/MyDrive/Dataset/Dataset1/Images/Test/Chicken/chicken27.jpg</td>\n",
              "      <td>chicken</td>\n",
              "    </tr>\n",
              "    <tr>\n",
              "      <th>236</th>\n",
              "      <td>/content/gdrive/MyDrive/Dataset/Dataset1/Images/Test/Chicken/chicken26.jpg</td>\n",
              "      <td>chicken</td>\n",
              "    </tr>\n",
              "    <tr>\n",
              "      <th>237</th>\n",
              "      <td>/content/gdrive/MyDrive/Dataset/Dataset1/Images/Test/Chicken/chicken29.jpg</td>\n",
              "      <td>chicken</td>\n",
              "    </tr>\n",
              "    <tr>\n",
              "      <th>238</th>\n",
              "      <td>/content/gdrive/MyDrive/Dataset/Dataset1/Images/Test/Chicken/chicken25.jpg</td>\n",
              "      <td>chicken</td>\n",
              "    </tr>\n",
              "    <tr>\n",
              "      <th>239</th>\n",
              "      <td>/content/gdrive/MyDrive/Dataset/Dataset1/Images/Test/Chicken/chicken21.jpg</td>\n",
              "      <td>chicken</td>\n",
              "    </tr>\n",
              "  </tbody>\n",
              "</table>\n",
              "<p>240 rows × 2 columns</p>\n",
              "</div>"
            ],
            "text/plain": [
              "                                                                        image_urls  \\\n",
              "0     /content/gdrive/MyDrive/Dataset/Dataset1/Images/Train/Potatoes/potatoes0.jpg   \n",
              "1    /content/gdrive/MyDrive/Dataset/Dataset1/Images/Train/Potatoes/potatoes11.jpg   \n",
              "2     /content/gdrive/MyDrive/Dataset/Dataset1/Images/Train/Potatoes/potatoes8.jpg   \n",
              "3     /content/gdrive/MyDrive/Dataset/Dataset1/Images/Train/Potatoes/potatoes2.jpg   \n",
              "4    /content/gdrive/MyDrive/Dataset/Dataset1/Images/Train/Potatoes/potatoes15.jpg   \n",
              "..                                                                             ...   \n",
              "235     /content/gdrive/MyDrive/Dataset/Dataset1/Images/Test/Chicken/chicken27.jpg   \n",
              "236     /content/gdrive/MyDrive/Dataset/Dataset1/Images/Test/Chicken/chicken26.jpg   \n",
              "237     /content/gdrive/MyDrive/Dataset/Dataset1/Images/Test/Chicken/chicken29.jpg   \n",
              "238     /content/gdrive/MyDrive/Dataset/Dataset1/Images/Test/Chicken/chicken25.jpg   \n",
              "239     /content/gdrive/MyDrive/Dataset/Dataset1/Images/Test/Chicken/chicken21.jpg   \n",
              "\n",
              "    labels_dist  \n",
              "0      potatoes  \n",
              "1      potatoes  \n",
              "2      potatoes  \n",
              "3      potatoes  \n",
              "4      potatoes  \n",
              "..          ...  \n",
              "235     chicken  \n",
              "236     chicken  \n",
              "237     chicken  \n",
              "238     chicken  \n",
              "239     chicken  \n",
              "\n",
              "[240 rows x 2 columns]"
            ]
          },
          "metadata": {
            "tags": []
          },
          "execution_count": 30
        }
      ]
    },
    {
      "cell_type": "markdown",
      "metadata": {
        "id": "l5-5N3uxYSdz"
      },
      "source": [
        "### Load Data"
      ]
    },
    {
      "cell_type": "markdown",
      "metadata": {
        "id": "z465_5BfLYMh"
      },
      "source": [
        "Fastai comes with many classes to help with labeling, among which is the 'ColReader' class that we use here.  In this example we use the data block API."
      ]
    },
    {
      "cell_type": "code",
      "metadata": {
        "id": "yhGuJ_bd0N1N"
      },
      "source": [
        "dblock = DataBlock(\n",
        "                 blocks = (ImageBlock, CategoryBlock),\n",
        "                 \n",
        "                 getters=[ColReader('image_urls'),   # image input\n",
        "                          ColReader('labels_dist')], \n",
        "\n",
        "                 splitter=RandomSplitter(valid_pct=0.1, seed=42),\n",
        "                 item_tfms=Resize(460),\n",
        "                 batch_tfms=aug_transforms(size=224, min_scale=0.75))\n",
        "                \n",
        "dls = dblock.dataloaders(df)"
      ],
      "execution_count": null,
      "outputs": []
    },
    {
      "cell_type": "markdown",
      "metadata": {
        "id": "mgzPanVILYMh"
      },
      "source": [
        "The following lines (included in the DataBlock) implement the fastai data augmentation method of *presizing*. Presizing is an image augmentation designed to minimize data destruction while maintaining good performance.\n",
        "\n",
        "```python\n",
        "item_tfms=Resize(460),\n",
        "batch_tfms=aug_transforms(size=224, min_scale=0.75)\n",
        "```\n",
        "\n"
      ]
    },
    {
      "cell_type": "code",
      "metadata": {
        "colab": {
          "base_uri": "https://localhost:8080/"
        },
        "id": "LEJfIsc_O493",
        "outputId": "6b771418-91e3-4104-ec51-d457c2ce558d"
      },
      "source": [
        "# Get class names\n",
        "print(dls.vocab)\n",
        "\n",
        "# Get number of classes\n",
        "print(len(dls.vocab))"
      ],
      "execution_count": null,
      "outputs": [
        {
          "output_type": "stream",
          "text": [
            "['cake', 'chicken', 'cookies', 'cupcakes', 'lasagna', 'pie', 'pizza', 'potatoes']\n",
            "8\n"
          ],
          "name": "stdout"
        }
      ]
    },
    {
      "cell_type": "markdown",
      "metadata": {
        "id": "XXT_gno_LYMk"
      },
      "source": [
        "### Checking and Debugging a DataBlock"
      ]
    },
    {
      "cell_type": "code",
      "metadata": {
        "id": "5ytjVC2is8hF"
      },
      "source": [
        "# Inspect\n",
        "food.summary(\"/content/images/Images\")"
      ],
      "execution_count": null,
      "outputs": []
    },
    {
      "cell_type": "markdown",
      "metadata": {
        "id": "h0QghKl-LYMk"
      },
      "source": [
        "The fastai library also provides simple ways to check your data looks right before training a model. \n",
        "\n",
        "We can never just assume that our code is working perfectly. Writing a `DataBlock` is like writing a blueprint. You will get an error message if you have a syntax error somewhere in your code, but you have no guarantee that your template is going to work on your data source as you intend. So, check your data before training a model. You can do this using the `show_batch` method:"
      ]
    },
    {
      "cell_type": "code",
      "metadata": {
        "id": "tXeVmpUALYMk",
        "colab": {
          "base_uri": "https://localhost:8080/",
          "height": 195
        },
        "outputId": "00ece4c6-674a-45ba-e854-9f079d694521"
      },
      "source": [
        "dls.show_batch(nrows=1, ncols=3)"
      ],
      "execution_count": null,
      "outputs": [
        {
          "output_type": "display_data",
          "data": {
            "image/png": "[encoded data removed]",
            "text/plain": [
              "<Figure size 648x216 with 3 Axes>"
            ]
          },
          "metadata": {
            "tags": [],
            "needs_background": "light"
          }
        }
      ]
    },
    {
      "cell_type": "markdown",
      "metadata": {
        "id": "AG-6vJIGLYMl"
      },
      "source": [
        "Each image should have the correct label above it.  \n",
        "\n",
        "If there is a mistake in building your `DataBlock`, it likely won't be noticed before this step. To debug this, use the `summary` method. It will attempt to create a batch from the source you give it, with a lot of details. Also, if it fails, it will show at which point the error happens. \n",
        "\n",
        "For instance, one common mistake is to forget to use a `Resize` transform, so you end up with pictures of different sizes and are not able to batch them. Here is what the summary would look like in that case (note that the exact text may have changed since the time of writing, but it will give you an idea):"
      ]
    },
    {
      "cell_type": "code",
      "metadata": {
        "id": "6n7hhjjbLYMl"
      },
      "source": [
        "#hide_output\n",
        "food1 = DataBlock(blocks = (ImageBlock, CategoryBlock),\n",
        "                 get_items=get_image_files, \n",
        "                 splitter=RandomSplitter(seed=42),\n",
        "                 get_y=using_attr(RegexLabeller(r'(.+)'), 'name'))\n",
        "food1.summary(\"/content/images/Images\")"
      ],
      "execution_count": null,
      "outputs": []
    },
    {
      "cell_type": "markdown",
      "metadata": {
        "id": "jOV53yDxLYMl"
      },
      "source": [
        "You can see exactly how the data was gathered and split, how the process went from a filename to a *sample* (the tuple (image, category)), then what item transforms were applied and how it failed to collate those samples in a batch (because of the different shapes). \n"
      ]
    },
    {
      "cell_type": "markdown",
      "metadata": {
        "id": "G9uAaqdzCwIE"
      },
      "source": [
        "# Model Training"
      ]
    },
    {
      "cell_type": "markdown",
      "metadata": {
        "id": "lgsdmdB1CysC"
      },
      "source": [
        "Train a simple model at this point, to diagnose whether the data needs domain-specific engineering, or reveal any other potential issues. "
      ]
    },
    {
      "cell_type": "code",
      "metadata": {
        "colab": {
          "base_uri": "https://localhost:8080/",
          "height": 350,
          "referenced_widgets": [
            "e34ee8201bd44c009166e0712151327b",
            "f511c600cbf34f9e9902dc401dd63224",
            "da6bf82d6a034af98783538a5a0a44cd",
            "74b7f53363b3413695b1427a683bc408",
            "f7ecacdda0fe4046b7eebbdcbd7f88c8",
            "c6f4c030f62a4ff5b4a72a9b9b08ba5c",
            "2348f61b09644409ab08258c9ae29252",
            "443b3f4d34e44ae8940dbe4ef878f9f0"
          ]
        },
        "id": "5_nJufugjp0E",
        "outputId": "eb2f3737-d8ae-420d-97b2-03567f1f0161"
      },
      "source": [
        "learn = cnn_learner(dls, resnet34, metrics=error_rate)\n",
        "lr_min,lr_steep = learn.lr_find()"
      ],
      "execution_count": null,
      "outputs": [
        {
          "output_type": "stream",
          "text": [
            "Downloading: \"https://download.pytorch.org/models/resnet34-333f7ec4.pth\" to /root/.cache/torch/hub/checkpoints/resnet34-333f7ec4.pth\n"
          ],
          "name": "stderr"
        },
        {
          "output_type": "display_data",
          "data": {
            "application/vnd.jupyter.widget-view+json": {
              "model_id": "e34ee8201bd44c009166e0712151327b",
              "version_minor": 0,
              "version_major": 2
            },
            "text/plain": [
              "HBox(children=(FloatProgress(value=0.0, max=87306240.0), HTML(value='')))"
            ]
          },
          "metadata": {
            "tags": []
          }
        },
        {
          "output_type": "stream",
          "text": [
            "\n"
          ],
          "name": "stdout"
        },
        {
          "output_type": "display_data",
          "data": {
            "text/html": [
              ""
            ],
            "text/plain": [
              "<IPython.core.display.HTML object>"
            ]
          },
          "metadata": {
            "tags": []
          }
        },
        {
          "output_type": "display_data",
          "data": {
            "image/png": "[encoded data removed]",
            "text/plain": [
              "<Figure size 432x288 with 1 Axes>"
            ]
          },
          "metadata": {
            "tags": [],
            "needs_background": "light"
          }
        }
      ]
    },
    {
      "cell_type": "code",
      "metadata": {
        "colab": {
          "base_uri": "https://localhost:8080/"
        },
        "id": "HXTR8p00khrY",
        "outputId": "bcfa20a9-c5cf-4c88-bfe5-2ac4d3994a50"
      },
      "source": [
        "print(f\"Minimum/10: {lr_min:.2e}, steepest point: {lr_steep:.2e}\")"
      ],
      "execution_count": null,
      "outputs": [
        {
          "output_type": "stream",
          "text": [
            "Minimum/10: 1.45e-02, steepest point: 2.09e-03\n"
          ],
          "name": "stdout"
        }
      ]
    },
    {
      "cell_type": "code",
      "metadata": {
        "id": "V-W5VdhZLYMl",
        "colab": {
          "base_uri": "https://localhost:8080/",
          "height": 174
        },
        "outputId": "bebdd18c-7bcd-4183-af2b-158eb61caeb3"
      },
      "source": [
        "top_5 = partial(top_k_accuracy, k=5)\n",
        "learn = cnn_learner(dls, resnet34, metrics=[accuracy, top_5, error_rate])\n",
        "learn.fit_one_cycle(4, 2e-2)"
      ],
      "execution_count": null,
      "outputs": [
        {
          "output_type": "display_data",
          "data": {
            "text/html": [
              "<table border=\"1\" class=\"dataframe\">\n",
              "  <thead>\n",
              "    <tr style=\"text-align: left;\">\n",
              "      <th>epoch</th>\n",
              "      <th>train_loss</th>\n",
              "      <th>valid_loss</th>\n",
              "      <th>accuracy</th>\n",
              "      <th>top_k_accuracy</th>\n",
              "      <th>error_rate</th>\n",
              "      <th>time</th>\n",
              "    </tr>\n",
              "  </thead>\n",
              "  <tbody>\n",
              "    <tr>\n",
              "      <td>0</td>\n",
              "      <td>2.751369</td>\n",
              "      <td>1.415242</td>\n",
              "      <td>0.625000</td>\n",
              "      <td>0.958333</td>\n",
              "      <td>0.375000</td>\n",
              "      <td>00:13</td>\n",
              "    </tr>\n",
              "    <tr>\n",
              "      <td>1</td>\n",
              "      <td>1.700334</td>\n",
              "      <td>6.231091</td>\n",
              "      <td>0.333333</td>\n",
              "      <td>0.833333</td>\n",
              "      <td>0.666667</td>\n",
              "      <td>00:02</td>\n",
              "    </tr>\n",
              "    <tr>\n",
              "      <td>2</td>\n",
              "      <td>1.286258</td>\n",
              "      <td>8.765255</td>\n",
              "      <td>0.250000</td>\n",
              "      <td>0.791667</td>\n",
              "      <td>0.750000</td>\n",
              "      <td>00:02</td>\n",
              "    </tr>\n",
              "    <tr>\n",
              "      <td>3</td>\n",
              "      <td>1.014259</td>\n",
              "      <td>7.164510</td>\n",
              "      <td>0.250000</td>\n",
              "      <td>0.791667</td>\n",
              "      <td>0.750000</td>\n",
              "      <td>00:02</td>\n",
              "    </tr>\n",
              "  </tbody>\n",
              "</table>"
            ],
            "text/plain": [
              "<IPython.core.display.HTML object>"
            ]
          },
          "metadata": {
            "tags": []
          }
        }
      ]
    },
    {
      "cell_type": "code",
      "metadata": {
        "id": "-cxqQbfynyLw",
        "colab": {
          "base_uri": "https://localhost:8080/",
          "height": 175
        },
        "outputId": "277bed10-1f8a-4d14-fb1e-64167f1c5638"
      },
      "source": [
        "learn = cnn_learner(dls, resnet34, metrics=[accuracy, top_5, error_rate])\n",
        "learn.fine_tune(2, base_lr=2.5e-2)"
      ],
      "execution_count": null,
      "outputs": [
        {
          "output_type": "display_data",
          "data": {
            "text/html": [
              "<table border=\"1\" class=\"dataframe\">\n",
              "  <thead>\n",
              "    <tr style=\"text-align: left;\">\n",
              "      <th>epoch</th>\n",
              "      <th>train_loss</th>\n",
              "      <th>valid_loss</th>\n",
              "      <th>accuracy</th>\n",
              "      <th>top_k_accuracy</th>\n",
              "      <th>error_rate</th>\n",
              "      <th>time</th>\n",
              "    </tr>\n",
              "  </thead>\n",
              "  <tbody>\n",
              "    <tr>\n",
              "      <td>0</td>\n",
              "      <td>2.490215</td>\n",
              "      <td>1.702638</td>\n",
              "      <td>0.583333</td>\n",
              "      <td>0.958333</td>\n",
              "      <td>0.416667</td>\n",
              "      <td>00:02</td>\n",
              "    </tr>\n",
              "  </tbody>\n",
              "</table>"
            ],
            "text/plain": [
              "<IPython.core.display.HTML object>"
            ]
          },
          "metadata": {
            "tags": []
          }
        },
        {
          "output_type": "display_data",
          "data": {
            "text/html": [
              "<table border=\"1\" class=\"dataframe\">\n",
              "  <thead>\n",
              "    <tr style=\"text-align: left;\">\n",
              "      <th>epoch</th>\n",
              "      <th>train_loss</th>\n",
              "      <th>valid_loss</th>\n",
              "      <th>accuracy</th>\n",
              "      <th>top_k_accuracy</th>\n",
              "      <th>error_rate</th>\n",
              "      <th>time</th>\n",
              "    </tr>\n",
              "  </thead>\n",
              "  <tbody>\n",
              "    <tr>\n",
              "      <td>0</td>\n",
              "      <td>0.707526</td>\n",
              "      <td>7.320887</td>\n",
              "      <td>0.416667</td>\n",
              "      <td>0.750000</td>\n",
              "      <td>0.583333</td>\n",
              "      <td>00:02</td>\n",
              "    </tr>\n",
              "    <tr>\n",
              "      <td>1</td>\n",
              "      <td>0.932233</td>\n",
              "      <td>10.717216</td>\n",
              "      <td>0.416667</td>\n",
              "      <td>0.791667</td>\n",
              "      <td>0.583333</td>\n",
              "      <td>00:02</td>\n",
              "    </tr>\n",
              "  </tbody>\n",
              "</table>"
            ],
            "text/plain": [
              "<IPython.core.display.HTML object>"
            ]
          },
          "metadata": {
            "tags": []
          }
        }
      ]
    },
    {
      "cell_type": "code",
      "metadata": {
        "id": "_L8yUEvAN4JR",
        "colab": {
          "base_uri": "https://localhost:8080/",
          "height": 300
        },
        "outputId": "8dbc2981-b709-4815-975e-e047e53d5c25"
      },
      "source": [
        "learn = cnn_learner(dls, resnet34, metrics=[accuracy, top_5, error_rate])\n",
        "learn.fine_tune(6)"
      ],
      "execution_count": null,
      "outputs": [
        {
          "output_type": "display_data",
          "data": {
            "text/html": [
              "<table border=\"1\" class=\"dataframe\">\n",
              "  <thead>\n",
              "    <tr style=\"text-align: left;\">\n",
              "      <th>epoch</th>\n",
              "      <th>train_loss</th>\n",
              "      <th>valid_loss</th>\n",
              "      <th>accuracy</th>\n",
              "      <th>top_k_accuracy</th>\n",
              "      <th>error_rate</th>\n",
              "      <th>time</th>\n",
              "    </tr>\n",
              "  </thead>\n",
              "  <tbody>\n",
              "    <tr>\n",
              "      <td>0</td>\n",
              "      <td>3.258182</td>\n",
              "      <td>2.526150</td>\n",
              "      <td>0.250000</td>\n",
              "      <td>0.875000</td>\n",
              "      <td>0.750000</td>\n",
              "      <td>00:02</td>\n",
              "    </tr>\n",
              "  </tbody>\n",
              "</table>"
            ],
            "text/plain": [
              "<IPython.core.display.HTML object>"
            ]
          },
          "metadata": {
            "tags": []
          }
        },
        {
          "output_type": "display_data",
          "data": {
            "text/html": [
              "<table border=\"1\" class=\"dataframe\">\n",
              "  <thead>\n",
              "    <tr style=\"text-align: left;\">\n",
              "      <th>epoch</th>\n",
              "      <th>train_loss</th>\n",
              "      <th>valid_loss</th>\n",
              "      <th>accuracy</th>\n",
              "      <th>top_k_accuracy</th>\n",
              "      <th>error_rate</th>\n",
              "      <th>time</th>\n",
              "    </tr>\n",
              "  </thead>\n",
              "  <tbody>\n",
              "    <tr>\n",
              "      <td>0</td>\n",
              "      <td>2.301959</td>\n",
              "      <td>1.730295</td>\n",
              "      <td>0.333333</td>\n",
              "      <td>0.875000</td>\n",
              "      <td>0.666667</td>\n",
              "      <td>00:02</td>\n",
              "    </tr>\n",
              "    <tr>\n",
              "      <td>1</td>\n",
              "      <td>1.947011</td>\n",
              "      <td>1.221570</td>\n",
              "      <td>0.541667</td>\n",
              "      <td>0.875000</td>\n",
              "      <td>0.458333</td>\n",
              "      <td>00:02</td>\n",
              "    </tr>\n",
              "    <tr>\n",
              "      <td>2</td>\n",
              "      <td>1.580908</td>\n",
              "      <td>1.116607</td>\n",
              "      <td>0.625000</td>\n",
              "      <td>0.916667</td>\n",
              "      <td>0.375000</td>\n",
              "      <td>00:02</td>\n",
              "    </tr>\n",
              "    <tr>\n",
              "      <td>3</td>\n",
              "      <td>1.274251</td>\n",
              "      <td>1.221679</td>\n",
              "      <td>0.541667</td>\n",
              "      <td>0.875000</td>\n",
              "      <td>0.458333</td>\n",
              "      <td>00:02</td>\n",
              "    </tr>\n",
              "    <tr>\n",
              "      <td>4</td>\n",
              "      <td>1.065329</td>\n",
              "      <td>1.291427</td>\n",
              "      <td>0.541667</td>\n",
              "      <td>0.916667</td>\n",
              "      <td>0.458333</td>\n",
              "      <td>00:02</td>\n",
              "    </tr>\n",
              "    <tr>\n",
              "      <td>5</td>\n",
              "      <td>0.897673</td>\n",
              "      <td>1.325906</td>\n",
              "      <td>0.541667</td>\n",
              "      <td>0.916667</td>\n",
              "      <td>0.458333</td>\n",
              "      <td>00:02</td>\n",
              "    </tr>\n",
              "  </tbody>\n",
              "</table>"
            ],
            "text/plain": [
              "<IPython.core.display.HTML object>"
            ]
          },
          "metadata": {
            "tags": []
          }
        }
      ]
    },
    {
      "cell_type": "code",
      "metadata": {
        "id": "Ikp6zzEUoL_V",
        "colab": {
          "base_uri": "https://localhost:8080/"
        },
        "outputId": "7d048929-4fe0-4f98-895c-ca309d7159ee"
      },
      "source": [
        "learn.fit"
      ],
      "execution_count": null,
      "outputs": [
        {
          "output_type": "execute_result",
          "data": {
            "text/plain": [
              "<bound method Learner.fit of <fastai.learner.Learner object at 0x7f2778457250>>"
            ]
          },
          "metadata": {
            "tags": []
          },
          "execution_count": 38
        }
      ]
    },
    {
      "cell_type": "markdown",
      "metadata": {
        "id": "KgoYW_j0LYMm"
      },
      "source": [
        "The table shows the results after each epoch of training (after one complete pass through all of the images in the data.) The columns shown are the average loss over the items of the training set, the loss on the validation set, and any metrics requested—in this case, the error rate.\n",
        "\n",
        "*loss* is the function chosen to optimize the parameters of our model. Fastai will generally try to select an appropriate loss function based on the data and model. In this case we have image data and a categorical outcome; fastai will default to using *cross-entropy loss*."
      ]
    },
    {
      "cell_type": "markdown",
      "metadata": {
        "id": "8ZDt75OSLYMm"
      },
      "source": [
        "## Cross-Entropy Loss"
      ]
    },
    {
      "cell_type": "markdown",
      "metadata": {
        "id": "vc-nUsexLYMm"
      },
      "source": [
        "*Cross-entropy loss* is a loss function that has two benefits:\n",
        "\n",
        "- It works even when our dependent variable has more than two categories.\n",
        "- It results in faster and more reliable training.\n"
      ]
    },
    {
      "cell_type": "markdown",
      "metadata": {
        "id": "eK9XV8hRLYMm"
      },
      "source": [
        "### Viewing Activations and Labels"
      ]
    },
    {
      "cell_type": "markdown",
      "metadata": {
        "id": "-9519pUVLYMm"
      },
      "source": [
        "View the activations of the model. To get a batch of real data from our `DataLoaders`, we can use the `one_batch` method:"
      ]
    },
    {
      "cell_type": "code",
      "metadata": {
        "id": "9EOUMLEuLYMm"
      },
      "source": [
        "x,y = dls.one_batch()"
      ],
      "execution_count": null,
      "outputs": []
    },
    {
      "cell_type": "markdown",
      "metadata": {
        "id": "N6cTwut7LYMm"
      },
      "source": [
        "This returns the dependent and independent variables, as a mini-batch. Let's examine what is contained in our dependent variable:"
      ]
    },
    {
      "cell_type": "code",
      "metadata": {
        "id": "VSCze3DQLYMn",
        "colab": {
          "base_uri": "https://localhost:8080/"
        },
        "outputId": "24ffcdd0-fb5f-488a-b19f-4e50dee1762e"
      },
      "source": [
        "y"
      ],
      "execution_count": null,
      "outputs": [
        {
          "output_type": "execute_result",
          "data": {
            "text/plain": [
              "TensorCategory([6, 2, 4, 0, 5, 0, 7, 6, 5, 4, 5, 6, 7, 1, 0, 3, 5, 1, 3, 0, 2, 5, 0, 3, 3, 6, 7, 5, 6, 7, 5, 1, 0, 3, 5, 4, 0, 2, 7, 5, 6, 5, 1, 1, 0, 2, 5, 5, 5, 3, 7, 0, 0, 2, 4, 1, 1, 3, 5, 2, 7, 3, 5, 2],\n",
              "       device='cuda:0')"
            ]
          },
          "metadata": {
            "tags": []
          },
          "execution_count": 40
        }
      ]
    },
    {
      "cell_type": "markdown",
      "metadata": {
        "id": "uO2PJ_JuLYMn"
      },
      "source": [
        "Our batch size is X, so we have X rows in this tensor. Each row is a single integer between 0 and 36, representing our XX possible pet breeds (categories of food). We can view the predictions (that is, the activations of the final layer of our neural network) using `Learner.get_preds`. This function either takes a dataset index (0 for train and 1 for valid) or an iterator of batches. Thus, we can pass it a simple list with our batch to get our predictions. It returns predictions and targets by default, but since we already have the targets, we can effectively ignore them by assigning to the special variable `_`:"
      ]
    },
    {
      "cell_type": "code",
      "metadata": {
        "id": "ND8qMktdLYMn",
        "colab": {
          "base_uri": "https://localhost:8080/",
          "height": 35
        },
        "outputId": "4239c880-da56-4d23-e05c-4faa6cbec3ec"
      },
      "source": [
        "preds,_ = learn.get_preds(dl=[(x,y)])\n",
        "preds[0]"
      ],
      "execution_count": null,
      "outputs": [
        {
          "output_type": "display_data",
          "data": {
            "text/html": [
              ""
            ],
            "text/plain": [
              "<IPython.core.display.HTML object>"
            ]
          },
          "metadata": {
            "tags": []
          }
        },
        {
          "output_type": "execute_result",
          "data": {
            "text/plain": [
              "tensor([2.3980e-05, 1.5194e-05, 3.3647e-05, 1.0417e-05, 2.7464e-04, 9.1790e-05, 9.9950e-01, 4.8251e-05])"
            ]
          },
          "metadata": {
            "tags": []
          },
          "execution_count": 41
        }
      ]
    },
    {
      "cell_type": "markdown",
      "metadata": {
        "id": "vtv8hJT_LYMn"
      },
      "source": [
        "The predictions are [number of categories] probabilities between 0 and 1, which add up to 1 in total:"
      ]
    },
    {
      "cell_type": "code",
      "metadata": {
        "id": "jlLmYtc3LYMn",
        "colab": {
          "base_uri": "https://localhost:8080/"
        },
        "outputId": "e98ab743-1916-463e-afab-e657e94e6ce3"
      },
      "source": [
        "len(preds[0]),preds[0].sum()"
      ],
      "execution_count": null,
      "outputs": [
        {
          "output_type": "execute_result",
          "data": {
            "text/plain": [
              "(8, tensor(1.))"
            ]
          },
          "metadata": {
            "tags": []
          },
          "execution_count": 42
        }
      ]
    },
    {
      "cell_type": "markdown",
      "metadata": {
        "id": "nie225puLYMn"
      },
      "source": [
        "To transform the activations of our model into predictions, we used the *softmax* activation function."
      ]
    },
    {
      "cell_type": "markdown",
      "metadata": {
        "id": "5UF5tfYSLYMu"
      },
      "source": [
        "## Model Interpretation"
      ]
    },
    {
      "cell_type": "code",
      "metadata": {
        "id": "D2jPaUcULYMv",
        "colab": {
          "base_uri": "https://localhost:8080/",
          "height": 743
        },
        "outputId": "edc42c6a-bb57-4247-fb6b-e0c96daf9b4d"
      },
      "source": [
        "# Confusion Matrix\n",
        "#width 600\n",
        "interp = ClassificationInterpretation.from_learner(learn)\n",
        "interp.plot_confusion_matrix(figsize=(12,12), dpi=60)"
      ],
      "execution_count": null,
      "outputs": [
        {
          "output_type": "display_data",
          "data": {
            "text/html": [
              ""
            ],
            "text/plain": [
              "<IPython.core.display.HTML object>"
            ]
          },
          "metadata": {
            "tags": []
          }
        },
        {
          "output_type": "display_data",
          "data": {
            "image/png": "[encoded data removed]",
            "text/plain": [
              "<Figure size 720x720 with 1 Axes>"
            ]
          },
          "metadata": {
            "tags": [],
            "needs_background": "light"
          }
        }
      ]
    },
    {
      "cell_type": "markdown",
      "metadata": {
        "id": "KNfPsw3CLYMv"
      },
      "source": [
        "The `most_confused` method shows the cells of the confusion matrix with the most incorrect predictions (here, with at least 5 or more):"
      ]
    },
    {
      "cell_type": "code",
      "metadata": {
        "id": "jDLwSXNaLYMv",
        "colab": {
          "base_uri": "https://localhost:8080/"
        },
        "outputId": "0c6e39c4-1587-42b3-c121-2a981569a396"
      },
      "source": [
        "interp.most_confused(min_val=5)"
      ],
      "execution_count": null,
      "outputs": [
        {
          "output_type": "execute_result",
          "data": {
            "text/plain": [
              "[]"
            ]
          },
          "metadata": {
            "tags": []
          },
          "execution_count": 44
        }
      ]
    },
    {
      "cell_type": "markdown",
      "metadata": {
        "id": "nFEClJDGLYMv"
      },
      "source": [
        "## Improving the Model"
      ]
    },
    {
      "cell_type": "markdown",
      "metadata": {
        "id": "YqFeY6DYLYMx"
      },
      "source": [
        "### Unfreezing and Transfer Learning"
      ]
    },
    {
      "cell_type": "markdown",
      "metadata": {
        "id": "obwkAYdQLYMx"
      },
      "source": [
        "Pretrained models are trained on millions of data points (such as ImageNet), fine-tuned for a specific task. \n",
        "\n",
        "A convolutional neural network consists of many linear layers with a nonlinear activation function between each pair, followed by one or more final linear layers with an activation function such as softmax at the end. The final linear layer uses a matrix with the number columns such that the output size is equal to the number of classes in the model (for classification).\n",
        "\n",
        "The final linear layer is unlikely to be useful when fine-tuning in a transfer learning setting, because it is specifically designed to classify the categories in the original pretraining dataset. So it is removed when doing transfer learning, and replaced with a linear layer with the correct number of outputs for the task.\n",
        "\n",
        "This newly added linear layer has random weights; thus, our model prior to fine-tuning has random outputs. But, all layers prior to the last one are trained to be good at image classification in general. \n",
        "\n",
        "The challenge when fine-tuning is to replace the random weights in our added linear layers with weights that correctly achieve our desired task without breaking the carefully pretrained weights and the other layers. The do this, we want to train a model, but allow it to remember the useful aspects of the pretrained model, use them to solve our particular task, and only adjust them as required for the specifics of our case.\n",
        "\n",
        "To do this, we allow the optimizer to only update the weights in the randomly added final layers ~ without changing the weights in the rest of the neural network at all. This is called *freezing* the pretrained layers."
      ]
    },
    {
      "cell_type": "markdown",
      "metadata": {
        "id": "s2W8AXUkLYMx"
      },
      "source": [
        "When creating a model from a pretrained network fastai automatically freezes all of the pretrained layers. The FastAI `fine_tune` method does two things:\n",
        "\n",
        "- Trains the randomly added layers for one epoch, with all other layers frozen\n",
        "- Unfreezes all of the layers, and trains them all for the number of epochs requested\n",
        "\n",
        "Although this is a reasonable default approach, it is likely that for any particular dataset, better results can be achieved by doing things slightly differently. The `fine_tune` method has a number of parameters to change its behavior.  However, it might be easiest to call the underlying methods directly to get custom behavior. Remember that you can see the source code for the method by using the following syntax:\n",
        "\n",
        "    learn.fine_tune??\n",
        "\n",
        "To do this manually, we train the randomly added layers for three epochs, using `fit_one_cycle`, which is the suggested way to train models without using `fine_tune`. \n",
        "\n",
        "`fit_one_cycle` starts training at a low learning rate, gradually increase it for the first section of training, and then gradually decrease it again for the last section of training."
      ]
    },
    {
      "cell_type": "code",
      "metadata": {
        "id": "UOzqd56zLYMy"
      },
      "source": [
        "learn.fine_tune??"
      ],
      "execution_count": null,
      "outputs": []
    },
    {
      "cell_type": "code",
      "metadata": {
        "id": "tfGDFmQwLYMy",
        "colab": {
          "base_uri": "https://localhost:8080/",
          "height": 174
        },
        "outputId": "f4527983-2d93-41fb-c3b0-e84163a2c2ad"
      },
      "source": [
        "learn = cnn_learner(dls, resnet34, metrics=[accuracy, top_5, error_rate])\n",
        "learn.fit_one_cycle(4,1.6e-2)"
      ],
      "execution_count": null,
      "outputs": [
        {
          "output_type": "display_data",
          "data": {
            "text/html": [
              "<table border=\"1\" class=\"dataframe\">\n",
              "  <thead>\n",
              "    <tr style=\"text-align: left;\">\n",
              "      <th>epoch</th>\n",
              "      <th>train_loss</th>\n",
              "      <th>valid_loss</th>\n",
              "      <th>accuracy</th>\n",
              "      <th>top_k_accuracy</th>\n",
              "      <th>error_rate</th>\n",
              "      <th>time</th>\n",
              "    </tr>\n",
              "  </thead>\n",
              "  <tbody>\n",
              "    <tr>\n",
              "      <td>0</td>\n",
              "      <td>2.855947</td>\n",
              "      <td>3.467219</td>\n",
              "      <td>0.333333</td>\n",
              "      <td>0.958333</td>\n",
              "      <td>0.666667</td>\n",
              "      <td>00:02</td>\n",
              "    </tr>\n",
              "    <tr>\n",
              "      <td>1</td>\n",
              "      <td>1.693052</td>\n",
              "      <td>3.241510</td>\n",
              "      <td>0.625000</td>\n",
              "      <td>0.916667</td>\n",
              "      <td>0.375000</td>\n",
              "      <td>00:02</td>\n",
              "    </tr>\n",
              "    <tr>\n",
              "      <td>2</td>\n",
              "      <td>1.259158</td>\n",
              "      <td>3.401983</td>\n",
              "      <td>0.541667</td>\n",
              "      <td>0.875000</td>\n",
              "      <td>0.458333</td>\n",
              "      <td>00:02</td>\n",
              "    </tr>\n",
              "    <tr>\n",
              "      <td>3</td>\n",
              "      <td>1.056294</td>\n",
              "      <td>2.963754</td>\n",
              "      <td>0.583333</td>\n",
              "      <td>0.875000</td>\n",
              "      <td>0.416667</td>\n",
              "      <td>00:02</td>\n",
              "    </tr>\n",
              "  </tbody>\n",
              "</table>"
            ],
            "text/plain": [
              "<IPython.core.display.HTML object>"
            ]
          },
          "metadata": {
            "tags": []
          }
        }
      ]
    },
    {
      "cell_type": "markdown",
      "metadata": {
        "id": "3P7memVALYMy"
      },
      "source": [
        "Then unfreeze the model:"
      ]
    },
    {
      "cell_type": "code",
      "metadata": {
        "id": "8LW7leTLLYMy"
      },
      "source": [
        "learn.unfreeze()"
      ],
      "execution_count": null,
      "outputs": []
    },
    {
      "cell_type": "markdown",
      "metadata": {
        "id": "UtBQY0ypLYMy"
      },
      "source": [
        "and run `lr_find` again, because having more layers to train, and weights that have already been trained for three epochs, means our previously found learning rate isn't appropriate any more:"
      ]
    },
    {
      "cell_type": "code",
      "metadata": {
        "id": "w3jCLPL5LYMy",
        "colab": {
          "base_uri": "https://localhost:8080/",
          "height": 301
        },
        "outputId": "0790a143-1dcf-47be-cdf9-44640f7e69ce"
      },
      "source": [
        "learn.lr_find()"
      ],
      "execution_count": null,
      "outputs": [
        {
          "output_type": "display_data",
          "data": {
            "text/html": [
              ""
            ],
            "text/plain": [
              "<IPython.core.display.HTML object>"
            ]
          },
          "metadata": {
            "tags": []
          }
        },
        {
          "output_type": "execute_result",
          "data": {
            "text/plain": [
              "SuggestedLRs(lr_min=8.317637839354575e-05, lr_steep=1.3182567499825382e-06)"
            ]
          },
          "metadata": {
            "tags": []
          },
          "execution_count": 47
        },
        {
          "output_type": "display_data",
          "data": {
            "image/png": "[encoded data removed]",
            "text/plain": [
              "<Figure size 432x288 with 1 Axes>"
            ]
          },
          "metadata": {
            "tags": [],
            "needs_background": "light"
          }
        }
      ]
    },
    {
      "cell_type": "markdown",
      "metadata": {
        "id": "ovsC-8IzLYMy"
      },
      "source": [
        "Note that the graph is a little different from when we had random weights: we don't have that sharp descent that indicates the model is training. That's because our model has been trained already. Here we have a somewhat flat area before a sharp increase, and we should take a point well before that sharp increase—for instance, 1e-5. The point with the maximum gradient isn't what we look for here and should be ignored.\n"
      ]
    },
    {
      "cell_type": "code",
      "metadata": {
        "id": "JyAEXypTLYMz",
        "colab": {
          "base_uri": "https://localhost:8080/",
          "height": 237
        },
        "outputId": "f0246d01-fbe4-42aa-8fdf-8140fbb88ebe"
      },
      "source": [
        "learn.fit_one_cycle(6, lr_max=1e-4)"
      ],
      "execution_count": null,
      "outputs": [
        {
          "output_type": "display_data",
          "data": {
            "text/html": [
              "<table border=\"1\" class=\"dataframe\">\n",
              "  <thead>\n",
              "    <tr style=\"text-align: left;\">\n",
              "      <th>epoch</th>\n",
              "      <th>train_loss</th>\n",
              "      <th>valid_loss</th>\n",
              "      <th>accuracy</th>\n",
              "      <th>top_k_accuracy</th>\n",
              "      <th>error_rate</th>\n",
              "      <th>time</th>\n",
              "    </tr>\n",
              "  </thead>\n",
              "  <tbody>\n",
              "    <tr>\n",
              "      <td>0</td>\n",
              "      <td>0.445199</td>\n",
              "      <td>2.316880</td>\n",
              "      <td>0.541667</td>\n",
              "      <td>0.875000</td>\n",
              "      <td>0.458333</td>\n",
              "      <td>00:02</td>\n",
              "    </tr>\n",
              "    <tr>\n",
              "      <td>1</td>\n",
              "      <td>0.366289</td>\n",
              "      <td>1.807548</td>\n",
              "      <td>0.583333</td>\n",
              "      <td>0.958333</td>\n",
              "      <td>0.416667</td>\n",
              "      <td>00:02</td>\n",
              "    </tr>\n",
              "    <tr>\n",
              "      <td>2</td>\n",
              "      <td>0.318495</td>\n",
              "      <td>1.633839</td>\n",
              "      <td>0.708333</td>\n",
              "      <td>0.916667</td>\n",
              "      <td>0.291667</td>\n",
              "      <td>00:02</td>\n",
              "    </tr>\n",
              "    <tr>\n",
              "      <td>3</td>\n",
              "      <td>0.253072</td>\n",
              "      <td>1.669979</td>\n",
              "      <td>0.666667</td>\n",
              "      <td>0.916667</td>\n",
              "      <td>0.333333</td>\n",
              "      <td>00:02</td>\n",
              "    </tr>\n",
              "    <tr>\n",
              "      <td>4</td>\n",
              "      <td>0.208088</td>\n",
              "      <td>1.723668</td>\n",
              "      <td>0.666667</td>\n",
              "      <td>0.916667</td>\n",
              "      <td>0.333333</td>\n",
              "      <td>00:02</td>\n",
              "    </tr>\n",
              "    <tr>\n",
              "      <td>5</td>\n",
              "      <td>0.181307</td>\n",
              "      <td>1.768338</td>\n",
              "      <td>0.666667</td>\n",
              "      <td>0.916667</td>\n",
              "      <td>0.333333</td>\n",
              "      <td>00:02</td>\n",
              "    </tr>\n",
              "  </tbody>\n",
              "</table>"
            ],
            "text/plain": [
              "<IPython.core.display.HTML object>"
            ]
          },
          "metadata": {
            "tags": []
          }
        }
      ]
    },
    {
      "cell_type": "markdown",
      "metadata": {
        "id": "HgK0TbcgLYMz"
      },
      "source": [
        "This has improved our model a bit.  But there's more we can do. "
      ]
    },
    {
      "cell_type": "markdown",
      "metadata": {
        "id": "D5wdZcnsLYMz"
      },
      "source": [
        "### Discriminative Learning Rates"
      ]
    },
    {
      "cell_type": "markdown",
      "metadata": {
        "id": "X2JoMLb7LYMz"
      },
      "source": [
        "The deepest layers of our pretrained model might not need as high a learning rate as the last ones, so we should probably use different learning rates for those—this is known as using *discriminative learning rates*.\n",
        "\n",
        "Even after we unfreeze, we still care a lot about the quality of the pretrained weights. We would not expect that the best learning rate for those pretrained parameters would be as high as for the randomly added parameters, even after we have tuned those randomly added parameters for a few epochs. Remember, the pretrained weights have been trained for hundreds of epochs, on millions of images.\n",
        "\n",
        "Recall that the first layer learns simple foundations, like edge and gradient detectors; these are likely to be just as useful for nearly any task. The later layers learn more complex concepts, like \"eye\" and \"sunset,\" which might not be useful. Thus, it makes sense to let the later layers fine-tune more quickly than earlier layers.\n",
        "\n",
        "Therefore, fastai's default approach is to use discriminative learning rates. This uses a lower learning rate for the early layers of the neural network, and a higher learning rate for the later layers (and especially the randomly added layers). "
      ]
    },
    {
      "cell_type": "markdown",
      "metadata": {
        "id": "iOiVc373LYMz"
      },
      "source": [
        "<img alt=\"Impact of different layers and training methods on transfer learning (Yosinski)\" width=\"680\" caption=\"Impact of different layers and training methods on transfer learning (courtesy of Jason Yosinski et al.)\" id=\"yosinski\" src=\"https://github.com/fastai/fastbook/blob/master/images/att_00039.png?raw=1\">"
      ]
    },
    {
      "cell_type": "markdown",
      "metadata": {
        "id": "wqSH7yBiLYMz"
      },
      "source": [
        "fastai lets you pass a Python `slice` object anywhere that a learning rate is expected. The first value passed will be the learning rate in the earliest layer of the neural network, and the second value will be the learning rate in the final layer. The layers in between will have learning rates that are multiplicatively equidistant throughout that range. \n",
        "\n",
        "Let's use this approach to replicate the previous training, but this time we'll only set the *lowest* layer of our net to a learning rate of 1e-6; the other layers will scale up to 1e-3. "
      ]
    },
    {
      "cell_type": "code",
      "metadata": {
        "id": "W0mx-hndLYMz",
        "colab": {
          "base_uri": "https://localhost:8080/",
          "height": 551
        },
        "outputId": "4cd86fb5-62af-4160-f035-523b8229e46e"
      },
      "source": [
        "learn = cnn_learner(dls, resnet34, metrics=[accuracy, top_5, error_rate])\n",
        "learn.fit_one_cycle(3, 3e-3)\n",
        "learn.unfreeze()\n",
        "learn.fit_one_cycle(12, lr_max=slice(1e-6,1e-3))"
      ],
      "execution_count": null,
      "outputs": [
        {
          "output_type": "display_data",
          "data": {
            "text/html": [
              "<table border=\"1\" class=\"dataframe\">\n",
              "  <thead>\n",
              "    <tr style=\"text-align: left;\">\n",
              "      <th>epoch</th>\n",
              "      <th>train_loss</th>\n",
              "      <th>valid_loss</th>\n",
              "      <th>accuracy</th>\n",
              "      <th>top_k_accuracy</th>\n",
              "      <th>error_rate</th>\n",
              "      <th>time</th>\n",
              "    </tr>\n",
              "  </thead>\n",
              "  <tbody>\n",
              "    <tr>\n",
              "      <td>0</td>\n",
              "      <td>3.207763</td>\n",
              "      <td>2.497817</td>\n",
              "      <td>0.250000</td>\n",
              "      <td>0.833333</td>\n",
              "      <td>0.750000</td>\n",
              "      <td>00:02</td>\n",
              "    </tr>\n",
              "    <tr>\n",
              "      <td>1</td>\n",
              "      <td>2.348801</td>\n",
              "      <td>1.319982</td>\n",
              "      <td>0.541667</td>\n",
              "      <td>1.000000</td>\n",
              "      <td>0.458333</td>\n",
              "      <td>00:02</td>\n",
              "    </tr>\n",
              "    <tr>\n",
              "      <td>2</td>\n",
              "      <td>1.718764</td>\n",
              "      <td>1.191592</td>\n",
              "      <td>0.458333</td>\n",
              "      <td>1.000000</td>\n",
              "      <td>0.541667</td>\n",
              "      <td>00:02</td>\n",
              "    </tr>\n",
              "  </tbody>\n",
              "</table>"
            ],
            "text/plain": [
              "<IPython.core.display.HTML object>"
            ]
          },
          "metadata": {
            "tags": []
          }
        },
        {
          "output_type": "display_data",
          "data": {
            "text/html": [
              "<table border=\"1\" class=\"dataframe\">\n",
              "  <thead>\n",
              "    <tr style=\"text-align: left;\">\n",
              "      <th>epoch</th>\n",
              "      <th>train_loss</th>\n",
              "      <th>valid_loss</th>\n",
              "      <th>accuracy</th>\n",
              "      <th>top_k_accuracy</th>\n",
              "      <th>error_rate</th>\n",
              "      <th>time</th>\n",
              "    </tr>\n",
              "  </thead>\n",
              "  <tbody>\n",
              "    <tr>\n",
              "      <td>0</td>\n",
              "      <td>0.515065</td>\n",
              "      <td>1.332160</td>\n",
              "      <td>0.416667</td>\n",
              "      <td>0.958333</td>\n",
              "      <td>0.583333</td>\n",
              "      <td>00:02</td>\n",
              "    </tr>\n",
              "    <tr>\n",
              "      <td>1</td>\n",
              "      <td>0.508902</td>\n",
              "      <td>1.405458</td>\n",
              "      <td>0.458333</td>\n",
              "      <td>0.958333</td>\n",
              "      <td>0.541667</td>\n",
              "      <td>00:02</td>\n",
              "    </tr>\n",
              "    <tr>\n",
              "      <td>2</td>\n",
              "      <td>0.472867</td>\n",
              "      <td>1.519004</td>\n",
              "      <td>0.458333</td>\n",
              "      <td>0.958333</td>\n",
              "      <td>0.541667</td>\n",
              "      <td>00:02</td>\n",
              "    </tr>\n",
              "    <tr>\n",
              "      <td>3</td>\n",
              "      <td>0.429924</td>\n",
              "      <td>1.538464</td>\n",
              "      <td>0.541667</td>\n",
              "      <td>1.000000</td>\n",
              "      <td>0.458333</td>\n",
              "      <td>00:02</td>\n",
              "    </tr>\n",
              "    <tr>\n",
              "      <td>4</td>\n",
              "      <td>0.388903</td>\n",
              "      <td>1.665097</td>\n",
              "      <td>0.541667</td>\n",
              "      <td>0.833333</td>\n",
              "      <td>0.458333</td>\n",
              "      <td>00:02</td>\n",
              "    </tr>\n",
              "    <tr>\n",
              "      <td>5</td>\n",
              "      <td>0.350431</td>\n",
              "      <td>1.735678</td>\n",
              "      <td>0.500000</td>\n",
              "      <td>0.833333</td>\n",
              "      <td>0.500000</td>\n",
              "      <td>00:02</td>\n",
              "    </tr>\n",
              "    <tr>\n",
              "      <td>6</td>\n",
              "      <td>0.309084</td>\n",
              "      <td>1.795126</td>\n",
              "      <td>0.458333</td>\n",
              "      <td>0.791667</td>\n",
              "      <td>0.541667</td>\n",
              "      <td>00:02</td>\n",
              "    </tr>\n",
              "    <tr>\n",
              "      <td>7</td>\n",
              "      <td>0.280612</td>\n",
              "      <td>1.826718</td>\n",
              "      <td>0.500000</td>\n",
              "      <td>0.791667</td>\n",
              "      <td>0.500000</td>\n",
              "      <td>00:02</td>\n",
              "    </tr>\n",
              "    <tr>\n",
              "      <td>8</td>\n",
              "      <td>0.255773</td>\n",
              "      <td>1.821856</td>\n",
              "      <td>0.500000</td>\n",
              "      <td>0.791667</td>\n",
              "      <td>0.500000</td>\n",
              "      <td>00:02</td>\n",
              "    </tr>\n",
              "    <tr>\n",
              "      <td>9</td>\n",
              "      <td>0.237852</td>\n",
              "      <td>1.802121</td>\n",
              "      <td>0.458333</td>\n",
              "      <td>0.833333</td>\n",
              "      <td>0.541667</td>\n",
              "      <td>00:02</td>\n",
              "    </tr>\n",
              "    <tr>\n",
              "      <td>10</td>\n",
              "      <td>0.216197</td>\n",
              "      <td>1.829345</td>\n",
              "      <td>0.458333</td>\n",
              "      <td>0.833333</td>\n",
              "      <td>0.541667</td>\n",
              "      <td>00:02</td>\n",
              "    </tr>\n",
              "    <tr>\n",
              "      <td>11</td>\n",
              "      <td>0.201374</td>\n",
              "      <td>1.824958</td>\n",
              "      <td>0.458333</td>\n",
              "      <td>0.833333</td>\n",
              "      <td>0.541667</td>\n",
              "      <td>00:02</td>\n",
              "    </tr>\n",
              "  </tbody>\n",
              "</table>"
            ],
            "text/plain": [
              "<IPython.core.display.HTML object>"
            ]
          },
          "metadata": {
            "tags": []
          }
        }
      ]
    },
    {
      "cell_type": "markdown",
      "metadata": {
        "id": "islOOKq_LYM0"
      },
      "source": [
        "fastai can show us a graph of the training and validation loss:"
      ]
    },
    {
      "cell_type": "code",
      "metadata": {
        "id": "YUMKEmuQLYM0",
        "colab": {
          "base_uri": "https://localhost:8080/",
          "height": 265
        },
        "outputId": "c67f842e-2c26-4dbe-eda6-359731925781"
      },
      "source": [
        "learn.recorder.plot_loss()"
      ],
      "execution_count": null,
      "outputs": [
        {
          "output_type": "display_data",
          "data": {
            "image/png": "[encoded data removed]",
            "text/plain": [
              "<Figure size 432x288 with 1 Axes>"
            ]
          },
          "metadata": {
            "tags": [],
            "needs_background": "light"
          }
        }
      ]
    },
    {
      "cell_type": "markdown",
      "metadata": {
        "id": "JrPDGHU3LYM0"
      },
      "source": [
        "As you can see, the training loss keeps getting better and better. But notice that eventually the validation loss improvement slows. This is the point at which the model is starting to over fit. \n",
        "\n",
        "Look at the table of training results per epoch, and you will often see that the accuracy continues improving, even as the validation loss gets worse. In the end what matters is accuracy, or more generally your chosen metrics, not the loss. The loss is just the function the computer uses to help us to optimize."
      ]
    },
    {
      "cell_type": "markdown",
      "metadata": {
        "id": "tp2iaUOLLYM0"
      },
      "source": [
        "Another decision you have to make when training the model is for how long to train for. "
      ]
    },
    {
      "cell_type": "markdown",
      "metadata": {
        "id": "k55AN-4BLYM0"
      },
      "source": [
        "### Selecting the Number of Epochs"
      ]
    },
    {
      "cell_type": "markdown",
      "metadata": {
        "id": "tvt_mS5oLYM0"
      },
      "source": [
        "Often researchers are limited by time, rather than generalization and accuracy, when choosing how many epochs to train for. So your first approach to training should be to simply pick a number of epochs that will train in the amount of time that you are happy to wait for. Then look at the training and validation loss plots, as shown above, and in particular your metrics, and if you see that they are still getting better even in your final epochs, then you know that you have not trained for too long.\n",
        "\n",
        "On the other hand, you may well see that the metrics you have chosen are really getting worse at the end of training. Remember, it's not just that we're looking for the validation loss to get worse, but the actual metrics. Your validation loss will first get worse during training because the model gets overconfident, and only later will get worse because it is incorrectly memorizing the data. We only care in practice about the latter issue. Remember, our loss function is just something that we use to allow our optimizer to have something it can differentiate and optimize; it's not actually the thing we care about in practice.\n",
        "\n",
        "Before the days of 1cycle training it was very common to save the model at the end of each epoch, and then select whichever model had the best accuracy out of all of the models saved in each epoch. This is known as *early stopping*. However, this is very unlikely to give you the best answer, because those epochs in the middle occur before the learning rate has had a chance to reach the small values, where it can really find the best result. Therefore, if you find that you have overfit, what you should actually do is retrain your model from scratch, and this time select a total number of epochs based on where your previous best results were found.\n",
        "\n",
        "If you have the time to train for more epochs, you may want to instead use that time to train more parameters—that is, use a deeper architecture."
      ]
    },
    {
      "cell_type": "markdown",
      "metadata": {
        "id": "jLcJLhVSLYM0"
      },
      "source": [
        "### Deeper Architectures"
      ]
    },
    {
      "cell_type": "markdown",
      "metadata": {
        "id": "LCCdr0E7LYM1"
      },
      "source": [
        "In general, a model with more parameters can model your data more accurately; a bigger model will better capture the real underlying relationships in the data, and also to capture and memorize the specific details of individual images.\n",
        "\n",
        "You can't really know ahead of time what the best architecture for your particular problem is—you need to try training some. \n",
        "\n",
        "Let's try a ResNet-50 now with mixed precision:"
      ]
    },
    {
      "cell_type": "code",
      "metadata": {
        "id": "8U3E4c9mLYM1",
        "colab": {
          "base_uri": "https://localhost:8080/",
          "height": 493,
          "referenced_widgets": [
            "f61331b25db54686a38c49354760ed68",
            "2d5c37816f444ef59e4b03b05bce382f",
            "a2cc6b45e4e04aec8248fa3758c5bc44",
            "037f8f0850af4c1d924b126d51d79d69",
            "a0fbb8d032ea4270a8979d6173e41c78",
            "09f9fa774cbc4b9ba9607651c70457d5",
            "af4929cfff9040f780415777b6db2f49",
            "ffa5cc6c9976441fb43af26ab50704b2"
          ]
        },
        "outputId": "de35d97f-fe56-4029-9f65-a0496c0738bf"
      },
      "source": [
        "from fastai.callback.fp16 import *\n",
        "#learn = cnn_learner(dls, resnet50, metrics=error_rate).to_fp16()\n",
        "learn = cnn_learner(dls, resnet50, metrics=[accuracy, top_5, error_rate]).to_fp16()\n",
        "learn.fine_tune(8, freeze_epochs=3)"
      ],
      "execution_count": null,
      "outputs": [
        {
          "output_type": "stream",
          "text": [
            "Downloading: \"https://download.pytorch.org/models/resnet50-19c8e357.pth\" to /root/.cache/torch/hub/checkpoints/resnet50-19c8e357.pth\n"
          ],
          "name": "stderr"
        },
        {
          "output_type": "display_data",
          "data": {
            "application/vnd.jupyter.widget-view+json": {
              "model_id": "f61331b25db54686a38c49354760ed68",
              "version_minor": 0,
              "version_major": 2
            },
            "text/plain": [
              "HBox(children=(FloatProgress(value=0.0, max=102502400.0), HTML(value='')))"
            ]
          },
          "metadata": {
            "tags": []
          }
        },
        {
          "output_type": "stream",
          "text": [
            "\n"
          ],
          "name": "stdout"
        },
        {
          "output_type": "display_data",
          "data": {
            "text/html": [
              "<table border=\"1\" class=\"dataframe\">\n",
              "  <thead>\n",
              "    <tr style=\"text-align: left;\">\n",
              "      <th>epoch</th>\n",
              "      <th>train_loss</th>\n",
              "      <th>valid_loss</th>\n",
              "      <th>accuracy</th>\n",
              "      <th>top_k_accuracy</th>\n",
              "      <th>error_rate</th>\n",
              "      <th>time</th>\n",
              "    </tr>\n",
              "  </thead>\n",
              "  <tbody>\n",
              "    <tr>\n",
              "      <td>0</td>\n",
              "      <td>3.162923</td>\n",
              "      <td>3.216835</td>\n",
              "      <td>0.083333</td>\n",
              "      <td>0.750000</td>\n",
              "      <td>0.916667</td>\n",
              "      <td>00:02</td>\n",
              "    </tr>\n",
              "    <tr>\n",
              "      <td>1</td>\n",
              "      <td>2.452655</td>\n",
              "      <td>1.729120</td>\n",
              "      <td>0.500000</td>\n",
              "      <td>0.750000</td>\n",
              "      <td>0.500000</td>\n",
              "      <td>00:02</td>\n",
              "    </tr>\n",
              "    <tr>\n",
              "      <td>2</td>\n",
              "      <td>1.757772</td>\n",
              "      <td>1.516623</td>\n",
              "      <td>0.625000</td>\n",
              "      <td>0.958333</td>\n",
              "      <td>0.375000</td>\n",
              "      <td>00:02</td>\n",
              "    </tr>\n",
              "  </tbody>\n",
              "</table>"
            ],
            "text/plain": [
              "<IPython.core.display.HTML object>"
            ]
          },
          "metadata": {
            "tags": []
          }
        },
        {
          "output_type": "display_data",
          "data": {
            "text/html": [
              "<table border=\"1\" class=\"dataframe\">\n",
              "  <thead>\n",
              "    <tr style=\"text-align: left;\">\n",
              "      <th>epoch</th>\n",
              "      <th>train_loss</th>\n",
              "      <th>valid_loss</th>\n",
              "      <th>accuracy</th>\n",
              "      <th>top_k_accuracy</th>\n",
              "      <th>error_rate</th>\n",
              "      <th>time</th>\n",
              "    </tr>\n",
              "  </thead>\n",
              "  <tbody>\n",
              "    <tr>\n",
              "      <td>0</td>\n",
              "      <td>0.308239</td>\n",
              "      <td>1.500932</td>\n",
              "      <td>0.625000</td>\n",
              "      <td>0.916667</td>\n",
              "      <td>0.375000</td>\n",
              "      <td>00:02</td>\n",
              "    </tr>\n",
              "    <tr>\n",
              "      <td>1</td>\n",
              "      <td>0.259444</td>\n",
              "      <td>1.462448</td>\n",
              "      <td>0.541667</td>\n",
              "      <td>0.875000</td>\n",
              "      <td>0.458333</td>\n",
              "      <td>00:02</td>\n",
              "    </tr>\n",
              "    <tr>\n",
              "      <td>2</td>\n",
              "      <td>0.219431</td>\n",
              "      <td>1.768842</td>\n",
              "      <td>0.541667</td>\n",
              "      <td>0.916667</td>\n",
              "      <td>0.458333</td>\n",
              "      <td>00:02</td>\n",
              "    </tr>\n",
              "    <tr>\n",
              "      <td>3</td>\n",
              "      <td>0.197556</td>\n",
              "      <td>2.082318</td>\n",
              "      <td>0.625000</td>\n",
              "      <td>0.958333</td>\n",
              "      <td>0.375000</td>\n",
              "      <td>00:02</td>\n",
              "    </tr>\n",
              "    <tr>\n",
              "      <td>4</td>\n",
              "      <td>0.173258</td>\n",
              "      <td>2.271458</td>\n",
              "      <td>0.583333</td>\n",
              "      <td>0.958333</td>\n",
              "      <td>0.416667</td>\n",
              "      <td>00:02</td>\n",
              "    </tr>\n",
              "    <tr>\n",
              "      <td>5</td>\n",
              "      <td>0.151107</td>\n",
              "      <td>2.295313</td>\n",
              "      <td>0.583333</td>\n",
              "      <td>0.916667</td>\n",
              "      <td>0.416667</td>\n",
              "      <td>00:02</td>\n",
              "    </tr>\n",
              "    <tr>\n",
              "      <td>6</td>\n",
              "      <td>0.139938</td>\n",
              "      <td>2.277075</td>\n",
              "      <td>0.583333</td>\n",
              "      <td>0.916667</td>\n",
              "      <td>0.416667</td>\n",
              "      <td>00:02</td>\n",
              "    </tr>\n",
              "    <tr>\n",
              "      <td>7</td>\n",
              "      <td>0.125995</td>\n",
              "      <td>2.273933</td>\n",
              "      <td>0.583333</td>\n",
              "      <td>0.875000</td>\n",
              "      <td>0.416667</td>\n",
              "      <td>00:02</td>\n",
              "    </tr>\n",
              "  </tbody>\n",
              "</table>"
            ],
            "text/plain": [
              "<IPython.core.display.HTML object>"
            ]
          },
          "metadata": {
            "tags": []
          }
        }
      ]
    },
    {
      "cell_type": "markdown",
      "metadata": {
        "id": "RZeXg_rGLYM1"
      },
      "source": [
        "You'll see here we've gone back to using `fine_tune`, since it's so handy! We can pass `freeze_epochs` to tell fastai how many epochs to train for while frozen. It will automatically change learning rates appropriately for most datasets.\n",
        "\n",
        "In this case, we're not seeing a clear win from the deeper model. This is useful to remember—bigger models aren't necessarily better models for your particular case! Make sure you try small models before you start scaling up."
      ]
    }
  ]
}